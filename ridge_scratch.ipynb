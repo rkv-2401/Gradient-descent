{
 "cells": [
  {
   "cell_type": "code",
   "execution_count": 1,
   "id": "626bf63d",
   "metadata": {},
   "outputs": [],
   "source": [
    "import pandas as pd\n",
    "import sklearn"
   ]
  },
  {
   "cell_type": "code",
   "execution_count": 2,
   "id": "f7d0abb6",
   "metadata": {},
   "outputs": [],
   "source": [
    "carSeats = pd.read_csv('CarSeats.csv')"
   ]
  },
  {
   "cell_type": "code",
   "execution_count": 3,
   "id": "3c96ca3a",
   "metadata": {},
   "outputs": [
    {
     "name": "stdout",
     "output_type": "stream",
     "text": [
      "   Sales  CompPrice  Income  Advertising  Population  Price ShelveLoc  Age  \\\n",
      "0   9.50        138      73           11         276    120       Bad   42   \n",
      "1  11.22        111      48           16         260     83      Good   65   \n",
      "2  10.06        113      35           10         269     80    Medium   59   \n",
      "3   7.40        117     100            4         466     97    Medium   55   \n",
      "4   4.15        141      64            3         340    128       Bad   38   \n",
      "\n",
      "   Education Urban   US  \n",
      "0         17   Yes  Yes  \n",
      "1         10   Yes  Yes  \n",
      "2         12   Yes  Yes  \n",
      "3         14   Yes  Yes  \n",
      "4         13   Yes   No  \n"
     ]
    }
   ],
   "source": [
    "print(carSeats.head())"
   ]
  },
  {
   "cell_type": "code",
   "execution_count": 4,
   "id": "aa77fe13",
   "metadata": {},
   "outputs": [
    {
     "name": "stdout",
     "output_type": "stream",
     "text": [
      "Index(['ShelveLoc', 'Urban', 'US'], dtype='object')\n"
     ]
    }
   ],
   "source": [
    "#Removing all categorical features.\n",
    "\n",
    "catCols = carSeats.select_dtypes(\"object\").columns\n",
    "print(catCols)"
   ]
  },
  {
   "cell_type": "code",
   "execution_count": 5,
   "id": "559c903d",
   "metadata": {
    "scrolled": true
   },
   "outputs": [],
   "source": [
    "carSeats.drop(columns = catCols, inplace = True)"
   ]
  },
  {
   "cell_type": "code",
   "execution_count": 6,
   "id": "5b0e2c1b",
   "metadata": {},
   "outputs": [],
   "source": [
    "from sklearn.preprocessing import StandardScaler\n",
    "#creating an object of class StandardScaler\n",
    "scaler = StandardScaler()"
   ]
  },
  {
   "cell_type": "code",
   "execution_count": 8,
   "id": "8c47e56f",
   "metadata": {},
   "outputs": [],
   "source": [
    "targetCol = carSeats['Sales']"
   ]
  },
  {
   "cell_type": "code",
   "execution_count": 9,
   "id": "caa92bab",
   "metadata": {},
   "outputs": [
    {
     "data": {
      "text/plain": [
       "0     9.50\n",
       "1    11.22\n",
       "2    10.06\n",
       "3     7.40\n",
       "4     4.15\n",
       "Name: Sales, dtype: float64"
      ]
     },
     "execution_count": 9,
     "metadata": {},
     "output_type": "execute_result"
    }
   ],
   "source": [
    "targetCol.head()"
   ]
  },
  {
   "cell_type": "code",
   "execution_count": 10,
   "id": "097cf3a6",
   "metadata": {},
   "outputs": [
    {
     "name": "stdout",
     "output_type": "stream",
     "text": [
      "Index(['Sales', 'CompPrice', 'Income', 'Advertising', 'Population', 'Price',\n",
      "       'Age', 'Education'],\n",
      "      dtype='object')\n"
     ]
    }
   ],
   "source": [
    "numCols = carSeats.select_dtypes(\"number\").columns\n",
    "print(numCols)\n",
    "trainCols = carSeats.copy()\n",
    "#makes a deep copy\n",
    "Y = trainCols['Sales']\n",
    "trainCols.head()\n",
    "x = trainCols.drop(columns = 'Sales')"
   ]
  },
  {
   "cell_type": "code",
   "execution_count": 11,
   "id": "3cc9b175",
   "metadata": {},
   "outputs": [
    {
     "data": {
      "text/html": [
       "<div>\n",
       "<style scoped>\n",
       "    .dataframe tbody tr th:only-of-type {\n",
       "        vertical-align: middle;\n",
       "    }\n",
       "\n",
       "    .dataframe tbody tr th {\n",
       "        vertical-align: top;\n",
       "    }\n",
       "\n",
       "    .dataframe thead th {\n",
       "        text-align: right;\n",
       "    }\n",
       "</style>\n",
       "<table border=\"1\" class=\"dataframe\">\n",
       "  <thead>\n",
       "    <tr style=\"text-align: right;\">\n",
       "      <th></th>\n",
       "      <th>CompPrice</th>\n",
       "      <th>Income</th>\n",
       "      <th>Advertising</th>\n",
       "      <th>Population</th>\n",
       "      <th>Price</th>\n",
       "      <th>Age</th>\n",
       "      <th>Education</th>\n",
       "    </tr>\n",
       "  </thead>\n",
       "  <tbody>\n",
       "    <tr>\n",
       "      <th>0</th>\n",
       "      <td>138</td>\n",
       "      <td>73</td>\n",
       "      <td>11</td>\n",
       "      <td>276</td>\n",
       "      <td>120</td>\n",
       "      <td>42</td>\n",
       "      <td>17</td>\n",
       "    </tr>\n",
       "    <tr>\n",
       "      <th>1</th>\n",
       "      <td>111</td>\n",
       "      <td>48</td>\n",
       "      <td>16</td>\n",
       "      <td>260</td>\n",
       "      <td>83</td>\n",
       "      <td>65</td>\n",
       "      <td>10</td>\n",
       "    </tr>\n",
       "    <tr>\n",
       "      <th>2</th>\n",
       "      <td>113</td>\n",
       "      <td>35</td>\n",
       "      <td>10</td>\n",
       "      <td>269</td>\n",
       "      <td>80</td>\n",
       "      <td>59</td>\n",
       "      <td>12</td>\n",
       "    </tr>\n",
       "    <tr>\n",
       "      <th>3</th>\n",
       "      <td>117</td>\n",
       "      <td>100</td>\n",
       "      <td>4</td>\n",
       "      <td>466</td>\n",
       "      <td>97</td>\n",
       "      <td>55</td>\n",
       "      <td>14</td>\n",
       "    </tr>\n",
       "    <tr>\n",
       "      <th>4</th>\n",
       "      <td>141</td>\n",
       "      <td>64</td>\n",
       "      <td>3</td>\n",
       "      <td>340</td>\n",
       "      <td>128</td>\n",
       "      <td>38</td>\n",
       "      <td>13</td>\n",
       "    </tr>\n",
       "  </tbody>\n",
       "</table>\n",
       "</div>"
      ],
      "text/plain": [
       "   CompPrice  Income  Advertising  Population  Price  Age  Education\n",
       "0        138      73           11         276    120   42         17\n",
       "1        111      48           16         260     83   65         10\n",
       "2        113      35           10         269     80   59         12\n",
       "3        117     100            4         466     97   55         14\n",
       "4        141      64            3         340    128   38         13"
      ]
     },
     "execution_count": 11,
     "metadata": {},
     "output_type": "execute_result"
    }
   ],
   "source": [
    "x[:5]"
   ]
  },
  {
   "cell_type": "code",
   "execution_count": 13,
   "id": "8f9a91fd",
   "metadata": {},
   "outputs": [],
   "source": [
    "scaler.fit(x)\n",
    "scaled_X = scaler.transform(x)"
   ]
  },
  {
   "cell_type": "code",
   "execution_count": 71,
   "id": "a26a387d",
   "metadata": {},
   "outputs": [],
   "source": [
    "#for col in scaled_X.columns:\n",
    "#    print(col, \"mean:\", scaled_X[col].mean())\n",
    "#    print(col, \"variance:\", scaled_X[col].var())"
   ]
  },
  {
   "cell_type": "code",
   "execution_count": 14,
   "id": "38bec384",
   "metadata": {},
   "outputs": [],
   "source": [
    "#Centering the target variable\n",
    "Y = Y - Y.mean()"
   ]
  },
  {
   "cell_type": "code",
   "execution_count": 15,
   "id": "74523eb8",
   "metadata": {},
   "outputs": [
    {
     "data": {
      "text/plain": [
       "0    2.003675\n",
       "1    3.723675\n",
       "2    2.563675\n",
       "3   -0.096325\n",
       "4   -3.346325\n",
       "Name: Sales, dtype: float64"
      ]
     },
     "execution_count": 15,
     "metadata": {},
     "output_type": "execute_result"
    }
   ],
   "source": [
    "Y[:5]"
   ]
  },
  {
   "cell_type": "code",
   "execution_count": 16,
   "id": "a23a4986",
   "metadata": {},
   "outputs": [
    {
     "name": "stdout",
     "output_type": "stream",
     "text": [
      "Means of features : [ 3.81916720e-16  3.55271368e-17  2.66453526e-17  1.59872116e-16\n",
      " -6.21724894e-17  1.28785871e-16 -1.33226763e-16]\n",
      "Variances of all feats : [1. 1. 1. 1. 1. 1. 1.]\n"
     ]
    }
   ],
   "source": [
    "from sklearn.model_selection import train_test_split\n",
    "\n",
    "print(f\"Means of features : {scaled_X.mean(axis=0)}\")\n",
    "print(f\"Variances of all feats : {scaled_X.var(axis=0)}\")"
   ]
  },
  {
   "cell_type": "code",
   "execution_count": 17,
   "id": "7a307392",
   "metadata": {},
   "outputs": [],
   "source": [
    "X_train, X_test, y_train, y_test = train_test_split(scaled_X, Y, test_size = 0.5, shuffle = False)"
   ]
  },
  {
   "cell_type": "code",
   "execution_count": 18,
   "id": "c61a6305",
   "metadata": {},
   "outputs": [
    {
     "data": {
      "text/plain": [
       "array([-0.1942498 ,  0.6920138 , -0.24615909,  0.47665602,  0.43155489,\n",
       "        0.65991828,  0.03820804])"
      ]
     },
     "execution_count": 18,
     "metadata": {},
     "output_type": "execute_result"
    }
   ],
   "source": [
    "X_train[-1]"
   ]
  },
  {
   "cell_type": "code",
   "execution_count": 19,
   "id": "f867f66a",
   "metadata": {},
   "outputs": [
    {
     "data": {
      "text/plain": [
       "dtype('float64')"
      ]
     },
     "execution_count": 19,
     "metadata": {},
     "output_type": "execute_result"
    }
   ],
   "source": [
    "X_train.dtype"
   ]
  },
  {
   "cell_type": "code",
   "execution_count": 20,
   "id": "fd5c6ff5",
   "metadata": {},
   "outputs": [
    {
     "data": {
      "text/plain": [
       "0    2.003675\n",
       "1    3.723675\n",
       "2    2.563675\n",
       "3   -0.096325\n",
       "4   -3.346325\n",
       "Name: Sales, dtype: float64"
      ]
     },
     "execution_count": 20,
     "metadata": {},
     "output_type": "execute_result"
    }
   ],
   "source": [
    "y_train[:5]"
   ]
  },
  {
   "cell_type": "code",
   "execution_count": 79,
   "id": "4bff2d21",
   "metadata": {},
   "outputs": [
    {
     "data": {
      "text/plain": [
       "dtype('float64')"
      ]
     },
     "execution_count": 79,
     "metadata": {},
     "output_type": "execute_result"
    }
   ],
   "source": [
    "y_train.dtype"
   ]
  },
  {
   "cell_type": "code",
   "execution_count": 80,
   "id": "5bb24a48",
   "metadata": {},
   "outputs": [
    {
     "name": "stdout",
     "output_type": "stream",
     "text": [
      "First row of training set:  [ 0.85045499  0.15536099  0.65717702  0.07581929  0.17782345 -0.69978222\n",
      "  1.18444912]\n",
      "Last row of training set:  [-0.1942498   0.6920138  -0.24615909  0.47665602  0.43155489  0.65991828\n",
      "  0.03820804]\n",
      "First row of test set:  [ 1.24221929  0.83512122 -0.99893918  0.57176982  1.27732635  0.53630914\n",
      " -0.72595268]\n",
      "Last row of test set:  [ 0.58927879 -1.13260576 -0.99893918 -1.61584759  0.17782345 -0.26715025\n",
      "  0.80236876]\n",
      "First target variable of training set:  2.0036750000000003\n",
      "Last target variable of training set:  -1.0763249999999998\n",
      "First target variable of test set:  -1.936325\n",
      "Last target variable of test set:  2.213675000000001\n"
     ]
    }
   ],
   "source": [
    "print(\"First row of training set: \", X_train[0])\n",
    "print(\"Last row of training set: \", X_train[-1])\n",
    "print(\"First row of test set: \", X_test[0])\n",
    "print(\"Last row of test set: \", X_test[-1])\n",
    "print(\"First target variable of training set: \", y_train[0])\n",
    "print(\"Last target variable of training set: \", y_train[199])\n",
    "print(\"First target variable of test set: \", y_test[200])\n",
    "print(\"Last target variable of test set: \", y_test[399])"
   ]
  },
  {
   "cell_type": "code",
   "execution_count": 81,
   "id": "62625107",
   "metadata": {},
   "outputs": [
    {
     "name": "stdout",
     "output_type": "stream",
     "text": [
      "B-ridge using SKlearn: \n",
      " [ 0.680673    0.28229334  0.65157017  0.00834835 -1.17129533 -0.400892\n",
      " -0.10063355]\n"
     ]
    }
   ],
   "source": [
    "import numpy as np\n",
    "from sklearn.linear_model import Ridge\n",
    "X = X_train\n",
    "Xt = np.transpose(X)\n",
    "Y = y_train.to_numpy()\n",
    "y_test = y_test.to_numpy()\n",
    "n = X_train.shape[0]\n",
    "#Alpha isn't a number, it's an array-like structure with the shape of [n_targets]\n",
    "# We can easily access that as Y.shape[0].\n",
    "\n",
    "#Fit intercept is used if dataset isn't centered. Because that was explicitly required, we have\n",
    "#to use the parameter fit_intercept = false.\n",
    "reg = Ridge(alpha = 0.5 * (Y.shape[0]), fit_intercept = False)\n",
    "#X - scaled X_train, Y - scaled Y train\n",
    "reg.fit(X, Y)\n",
    "params = reg.get_params()\n",
    "#print(params)\n",
    "print(\"B-ridge using SKlearn: \\n\", reg.coef_)"
   ]
  },
  {
   "cell_type": "code",
   "execution_count": 82,
   "id": "7e9e264f",
   "metadata": {},
   "outputs": [
    {
     "name": "stdout",
     "output_type": "stream",
     "text": [
      "B-ridge manually: \n",
      " [ 0.680673    0.28229334  0.65157017  0.00834835 -1.17129533 -0.400892\n",
      " -0.10063355]\n"
     ]
    }
   ],
   "source": [
    "#B_hat = 1/n(Xt.X + phi.I)-1 (1/n)(Xt.Y)\n",
    "#slide 21/43, lecture - reg2, w/some modifications\n",
    "\n",
    "#Creating the identity matrix for matrix multiplication\n",
    "Id_shape = X_train.shape[1]\n",
    "phi = 0.5\n",
    "\n",
    "#Just representing the above formula \n",
    "inverse_term =  np.linalg.inv ((1/n) * np.matmul(Xt,X) + phi * np.eye(Id_shape))\n",
    "XtY =  np.matmul(Xt,Y)\n",
    "betaRidge = (1/n) * np.matmul(inverse_term, XtY)\n",
    "print(\"B-ridge manually: \\n\", betaRidge)"
   ]
  },
  {
   "cell_type": "code",
   "execution_count": 84,
   "id": "4033e9d9",
   "metadata": {},
   "outputs": [
    {
     "name": "stdout",
     "output_type": "stream",
     "text": [
      "Beta-hat :  [ 0.680673    0.28229334  0.65157017  0.00834835 -1.17129533 -0.400892\n",
      " -0.10063355]\n",
      "\n",
      " Step size :  1e-06\n",
      "Bpred after 1000 iterations :  [0.99738436 0.99872867 0.9989131  0.99738718 0.99357674 0.99650301\n",
      " 0.99721131]\n",
      "\n",
      " Step size :  5e-06\n",
      "Bpred after 1000 iterations :  [0.9870544  0.99365396 0.99459471 0.98700143 0.96809523 0.98259487\n",
      " 0.98612737]\n",
      "\n",
      " Step size :  1e-05\n",
      "Bpred after 1000 iterations :  [0.97443573 0.98733493 0.98926193 0.97416555 0.93671354 0.96538813\n",
      " 0.97243043]\n",
      "\n",
      " Step size :  5e-05\n",
      "Bpred after 1000 iterations :  [0.88440247 0.93783607 0.94911573 0.87711645 0.70340123 0.83465493\n",
      " 0.86891471]\n",
      "\n",
      " Step size :  0.0001\n",
      "Bpred after 1000 iterations :  [0.79551255 0.87890228 0.90479003 0.76890721 0.45140467 0.68751371\n",
      " 0.75348999]\n",
      "\n",
      " Step size :  0.0005\n",
      "Bpred after 1000 iterations :  [ 0.56792531  0.54022727  0.71129957  0.26574314 -0.61652487 -0.01919157\n",
      "  0.20918432]\n",
      "\n",
      " Step size :  0.001\n",
      "Bpred after 1000 iterations :  [ 0.60381899  0.36347945  0.65404579  0.07283101 -1.00217987 -0.30371328\n",
      " -0.01384955]\n",
      "\n",
      " Step size :  0.006\n",
      "Bpred after 1000 iterations :  [ 0.68066328  0.28229347  0.65156835  0.00834762 -1.17128578 -0.40089348\n",
      " -0.10063326]\n",
      "\n",
      " Step size :  0.02\n",
      "Bpred after 1000 iterations :  [ 0.680673    0.28229334  0.65157017  0.00834835 -1.17129533 -0.400892\n",
      " -0.10063355]\n"
     ]
    }
   ],
   "source": [
    "# Batch gradient descent for ridge regression\n",
    "# Define parameters here :\n",
    "phi = 0.5\n",
    "\n",
    "# Define ridge loss function : 1/n * ||(y-XB)||^2 + phi||B||^2 - from lecture notes\n",
    "# Where n not a number, but shape of {n_targets} (Thanks SKLearn documentation!)\n",
    "def ridge_loss(X, Y, beta):\n",
    "    n = Y.shape[0]\n",
    "    inverse_term = np.linalg.norm(Y - np.matmul(X, beta))\n",
    "    loss = (1/n) * pow(inverse_term, 2) + phi * (pow(np.linalg.norm(beta), 2))\n",
    "    #print(\"Ridge loss : \", loss)\n",
    "    return loss\n",
    "\n",
    "# Define ridge gradient function\n",
    "# As derived in Q1e, ridge gradient : -2/n * xi (yi - xiT.B) + 2(pB)\n",
    "def ridge_grad(X, Y, beta, phi):\n",
    "    n = Y.shape[0]\n",
    "    Xt = X.transpose()\n",
    "    #print(\"Parameter X shape: \", X.shape)\n",
    "    #print(\"Beta: \", beta)\n",
    "    second_term = Y - np.matmul(X, beta)\n",
    "    #print(\"Second term shape : \", second_term.shape)\n",
    "    gradient = (-2/n) * np.matmul(Xt, second_term) + 2 * phi * beta\n",
    "    #print(\"Gradient : \", gradient)\n",
    "    #print(\"Gradient shape : \", gradient.shape)\n",
    "    return gradient\n",
    "\n",
    "# Define Beta-hat with the closed inverse form.\n",
    "inverse_term =  np.linalg.inv ((1/n) * np.matmul(Xt,X) + phi * np.eye(Id_shape))\n",
    "XtY =  np.matmul(Xt,Y)\n",
    "beta_hat = (1/n) * np.matmul(inverse_term, XtY)\n",
    "print(\"Beta-hat : \", beta_hat)\n",
    "\n",
    "\n",
    "# Defining batch gradient operation.\n",
    "# beta_zero - intial estimate vector, epochs - no. of steps\n",
    "def batch_gd(X, Y, alpha, beta_zero, phi, epochs):\n",
    "    #beta can be safely modified, but not beta_zero\n",
    "    beta = beta_zero\n",
    "    #print(\"Beta inside batch_gd : \", beta)\n",
    "    #like the history method in Keras\n",
    "    beta_history = []\n",
    "    delta_history = []\n",
    "    #need to plot delta (k). delta = ridge_loss (current) - ridge_loss (true/Bhat)\n",
    "    for epoch in range(0, epochs):\n",
    "        current_grad = ridge_grad(X, Y, beta, phi)\n",
    "        #new beta = old beta - alpha * min. function\n",
    "        beta = beta - (alpha * current_grad)\n",
    "        #define delta\n",
    "        delta = ridge_loss(X, Y, beta) - ridge_loss(X, Y, beta_hat)\n",
    "        #beta history if we need it, but we don't\n",
    "        beta_history.append(beta)\n",
    "        delta_history.append(delta)\n",
    "    return beta, delta_history\n",
    "\n",
    "# 1000 epochs of batch GD with different step sizes:\n",
    "\n",
    "#length of Identity shape - same as last time\n",
    "Id_shape = X.shape[1]\n",
    "beta_zeros = np.ones(Id_shape)\n",
    "\n",
    "alphas = [0.000001, 0.000005, 0.00001, 0.00005, 0.0001, 0.0005, 0.001, 0.006, 0.02]\n",
    "#print(alphas)\n",
    "#print(\"Beta zeros : \", beta_zeros)\n",
    "#print(\"X :\", X)\n",
    "#print(\"Y :\", Y)\n",
    "beta_histories = []\n",
    "delta_histories = []\n",
    "for alpha in alphas:\n",
    "    beta, delta_history = batch_gd(X, Y, alpha, beta_zeros, phi, epochs = 1000)\n",
    "    beta_histories.append(beta)\n",
    "    delta_histories.append(delta_history)\n",
    "    print(\"\\n Step size : \", alpha)\n",
    "    print(\"Bpred after 1000 iterations : \", beta)\n",
    "    #print(\"Bpred shape : \", beta.shape)\n",
    "    #print(\"Delta history shape : \", len(delta_history))\n",
    "    #print(\"B^ - Bpred : \", delta_history)"
   ]
  },
  {
   "cell_type": "code",
   "execution_count": 85,
   "id": "7831fa4c",
   "metadata": {},
   "outputs": [
    {
     "name": "stdout",
     "output_type": "stream",
     "text": [
      "Y-axis shows the variation between L(B^) (true B-value) and L(Bpred).\n",
      "X-axis shows the change in iteration count.\n"
     ]
    },
    {
     "data": {
      "image/png": "[encoded data removed]",
      "text/plain": [
       "<Figure size 1440x1080 with 9 Axes>"
      ]
     },
     "metadata": {
      "needs_background": "light"
     },
     "output_type": "display_data"
    }
   ],
   "source": [
    "#Plotting the results\n",
    "#reference - https://matplotlib.org/stable/gallery/subplots_axes_and_figures/subplots_demo.html\n",
    "import matplotlib.pyplot as plt\n",
    "fig, axes = plt.subplots(3, 3, figsize = (20,15))\n",
    "alphas = [0.000001, 0.000005, 0.00001, 0.00005, 0.0001, 0.0005, 0.001, 0.006, 0.02]\n",
    "for no, alpha in enumerate(alphas):\n",
    "    j = no // 3 #traversing rows\n",
    "    i = no % 3 #traversing cols\n",
    "    axes[j, i].plot(delta_histories[no])\n",
    "    axes[j, i].set_title(f\"Current step size: {alpha}\")\n",
    "    axes[j, i].set_xlabel(\"Iteration count\")\n",
    "    axes[j, i].set_ylabel(\"L(B^) - L(Bpred)\")\n",
    "print(\"Y-axis shows the variation between L(B^) (true B-value) and L(Bpred).\")\n",
    "print(\"X-axis shows the change in iteration count.\")\n",
    "plt.tight_layout()\n",
    "plt.savefig(\"Ridgeregression-batchGD.png\")\n",
    "plt.show()"
   ]
  },
  {
   "cell_type": "code",
   "execution_count": 86,
   "id": "7ed2595a",
   "metadata": {},
   "outputs": [
    {
     "name": "stdout",
     "output_type": "stream",
     "text": [
      "Train set MSE : 4.5589\n",
      "Test set MSE : 4.3804\n",
      "These MSEs were achieved with step-size = 0.02.\n",
      "This results in the quickest convergence, but a higher step size might cause the loss function to oscillate in the case of noisy data.\n"
     ]
    }
   ],
   "source": [
    "# Computing train and test MSE\n",
    "# Remember, n isn't a number!\n",
    "train_set_MSE = 1/n * np.linalg.norm(Y - X @ beta_histories[-1]) ** 2\n",
    "test_set_MSE = 1/n * np.linalg.norm(y_test - X_test @ beta_histories[-1]) ** 2\n",
    "print(\"Train set MSE :\", round(train_set_MSE, 4))\n",
    "print(\"Test set MSE :\", round(test_set_MSE, 4))\n",
    "print(\"These MSEs were achieved with step-size = 0.02.\")\n",
    "print(\"This results in the quickest convergence, but a higher step size might cause the loss function to oscillate in the case of noisy data.\")"
   ]
  },
  {
   "cell_type": "code",
   "execution_count": 87,
   "id": "3ef70f2d",
   "metadata": {},
   "outputs": [
    {
     "name": "stdout",
     "output_type": "stream",
     "text": [
      "As we can see from the B-pred resulting after 1000 iterations of various step sizes, we can see that alpha = 0.006 and alpha = 0.02 were the only ones to converge within 1000 iterations.\n"
     ]
    }
   ],
   "source": [
    "print(\"As we can see from the B-pred resulting after 1000 iterations of various step sizes, we can see that alpha = 0.006 and alpha = 0.02 were the only ones to converge within 1000 iterations.\")"
   ]
  },
  {
   "cell_type": "code",
   "execution_count": 88,
   "id": "61a3be84",
   "metadata": {},
   "outputs": [
    {
     "name": "stdout",
     "output_type": "stream",
     "text": [
      "Therefore, I think that step-size = 0.02 is the best choice for batch GD on this dataset.\n"
     ]
    }
   ],
   "source": [
    "print(\"Therefore, I think that step-size = 0.02 is the best choice for batch GD on this dataset.\")"
   ]
  }
 ],
 "metadata": {
  "kernelspec": {
   "display_name": "Python 3 (ipykernel)",
   "language": "python",
   "name": "python3"
  },
  "language_info": {
   "codemirror_mode": {
    "name": "ipython",
    "version": 3
   },
   "file_extension": ".py",
   "mimetype": "text/x-python",
   "name": "python",
   "nbconvert_exporter": "python",
   "pygments_lexer": "ipython3",
   "version": "3.9.7"
  }
 },
 "nbformat": 4,
 "nbformat_minor": 5
}
